{
 "cells": [
  {
   "cell_type": "markdown",
   "metadata": {},
   "source": [
    "# 3D render software\n",
    "This is the software part of project. We use PYNQ to control 3D render ip."
   ]
  },
  {
   "cell_type": "markdown",
   "metadata": {},
   "source": [
    "First we need read obj file which store the 3d information. We have two example called \"cube.obj\" and \"space_ship.obj\". Using other obj files is also right. But it requires that the number of points does not exceed 110 and the number of faces does not exceed 110."
   ]
  },
  {
   "cell_type": "code",
   "execution_count": 92,
   "metadata": {},
   "outputs": [
    {
     "name": "stdout",
     "output_type": "stream",
     "text": [
      "[[1.0, -1.0, -1.0], [1.0, 1.0, -1.0], [1.0, -1.0, 1.0], [1.0, 1.0, 1.0], [-1.0, -1.0, -1.0], [-1.0, 1.0, -1.0], [-1.0, -1.0, 1.0], [-1.0, 1.0, 1.0], [-0.72, 0.12, -1.4], [0.3, 0.0, 5.0], [-0.6, -0.6, -1.4], [-0.3, 0.0, 5.0], [-1.2, 0.2, 1.0], [-0.6, 0.6, -1.4], [-1.2, -0.2, -1.0], [-1.2, 0.2, -1.0], [1.2, -0.2, 1.0], [1.2, -0.2, -1.0], [1.2, 0.2, -1.0], [1.2, 0.2, 1.0], [-1.2, -0.2, 1.0], [0.6, 0.6, -1.4], [0.6, -0.6, -1.4], [-4.2, 0.06, 1.0], [-4.2, -0.06, 1.0], [-4.2, -0.06, -1.0], [-4.2, 0.06, -1.0], [4.2, -0.06, 1.0], [4.2, -0.06, -1.0], [4.2, 0.06, -1.0], [4.2, 0.06, 1.0], [4.2, -0.18, 1.0], [4.2, -0.18, -1.0], [4.2, 0.18, -1.0], [4.2, 0.18, 1.0], [4.5, -0.18, 1.0], [4.5, -0.18, -1.0], [4.5, 0.18, -1.0], [4.5, 0.18, 1.0], [-4.2, 0.18, 1.0], [-4.2, -0.18, 1.0], [-4.2, -0.18, -1.0], [-4.2, 0.18, -1.0], [-4.5, 0.18, 1.0], [-4.5, -0.18, 1.0], [-4.5, -0.18, -1.0], [-4.5, 0.18, -1.0], [4.35, -0.18, 3.0], [4.35, 0.18, 3.0], [-4.35, 0.18, 3.0], [-4.35, -0.18, 3.0], [0.0, -0.7, 3.0], [-0.72, -0.12, -1.4], [0.72, -0.12, -1.4], [0.72, 0.12, -1.4]]\n",
      "[[21, 52, 12], [6, 13, 8], [5, 23, 1], [7, 1, 3], [4, 6, 8], [4, 12, 10], [17, 20, 10], [20, 4, 10], [17, 52, 3], [7, 3, 52], [16, 14, 9], [7, 15, 5], [20, 30, 19], [18, 23, 54], [4, 19, 2], [1, 17, 3], [13, 25, 21], [13, 21, 12], [12, 52, 10], [8, 13, 12], [27, 42, 43], [15, 27, 16], [21, 26, 15], [16, 24, 13], [31, 34, 30], [18, 28, 17], [17, 31, 20], [19, 29, 18], [32, 49, 35], [29, 32, 28], [31, 32, 35], [29, 34, 33], [38, 36, 37], [34, 37, 33], [35, 38, 34], [33, 36, 32], [43, 44, 40], [25, 42, 26], [27, 40, 24], [25, 40, 41], [44, 46, 45], [40, 44, 50], [42, 47, 43], [41, 46, 42], [44, 47, 46], [32, 36, 48], [39, 35, 49], [39, 48, 36], [45, 51, 50], [40, 51, 41], [45, 41, 51], [45, 50, 44], [18, 29, 28], [17, 28, 31], [4, 2, 6], [18, 55, 19], [15, 11, 5], [19, 22, 2], [2, 14, 6], [16, 53, 15], [53, 9, 54], [19, 30, 29], [15, 26, 27], [16, 27, 24], [13, 24, 25], [21, 25, 26], [7, 21, 15], [7, 5, 1], [21, 7, 52], [1, 18, 17], [17, 10, 52], [4, 20, 19], [20, 31, 30], [4, 8, 12], [43, 47, 44], [6, 16, 13], [40, 50, 51], [41, 45, 46], [42, 46, 47], [2, 22, 14], [19, 55, 22], [18, 54, 55], [18, 1, 23], [5, 11, 23], [15, 53, 11], [16, 9, 53], [16, 6, 14], [9, 14, 22], [22, 55, 9], [55, 54, 9], [54, 23, 11], [11, 53, 54], [34, 38, 37], [38, 39, 36], [39, 49, 48], [35, 39, 38], [33, 37, 36], [25, 41, 42], [27, 43, 40], [31, 35, 34], [29, 33, 32], [32, 48, 49], [27, 26, 42], [31, 28, 32], [29, 30, 34], [25, 24, 40]]\n"
     ]
    }
   ],
   "source": [
    "import numpy as np\n",
    "with open(\"space_ship.obj\") as file:\n",
    "    point = []\n",
    "    face = []\n",
    "    while 1:\n",
    "        line = file.readline()\n",
    "        if not line:\n",
    "            break\n",
    "        strs = line.split(\" \")\n",
    "        if strs[0] == \"v\":\n",
    "            point.append([float(strs[1]), float(strs[2]), float(strs[3])])\n",
    "        if strs[0] == \"f\":\n",
    "            face.append([int(strs[1]), int(strs[2]), int(strs[3])])\n",
    "print(point)\n",
    "print(face)"
   ]
  },
  {
   "cell_type": "markdown",
   "metadata": {},
   "source": [
    "We need configure some basic data such as the angle at which the object is viewed( rotation_x_theta, rotation_y_theta, rotation_z_theta), the viewing distance from the object( distance). We recommend that: 10 <= screen_height / screen_width <= 100, 0 <= rotation_x_theta / rotation_y_theta / rotation_z_theta <= 360, 2 <= distance <= 10. Values that are too extreme may cause unknown errors. Please avoid this."
   ]
  },
  {
   "cell_type": "code",
   "execution_count": 93,
   "metadata": {},
   "outputs": [
    {
     "name": "stdout",
     "output_type": "stream",
     "text": [
      "[-1.2  -0.2   1.    0.   -0.7   3.   -0.3   0.    5.   -1.    1.   -1.\n",
      " -1.2   0.2   1.   -1.    1.    1.   -1.   -1.   -1.    0.6  -0.6  -1.4\n",
      "  1.   -1.   -1.   -1.   -1.    1.    1.   -1.   -1.    1.   -1.    1.\n",
      "  1.    1.    1.   -1.    1.   -1.   -1.    1.    1.    1.    1.    1.\n",
      " -0.3   0.    5.    0.3   0.    5.    1.2  -0.2   1.    1.2   0.2   1.\n",
      "  0.3   0.    5.    1.2   0.2   1.    1.    1.    1.    0.3   0.    5.\n",
      "  1.2  -0.2   1.    0.   -0.7   3.    1.   -1.    1.   -1.   -1.    1.\n",
      "  1.   -1.    1.    0.   -0.7   3.   -1.2   0.2  -1.   -0.6   0.6  -1.4\n",
      " -0.72  0.12 -1.4  -1.   -1.    1.   -1.2  -0.2  -1.   -1.   -1.   -1.\n",
      "  1.2   0.2   1.    4.2   0.06 -1.    1.2   0.2  -1.    1.2  -0.2  -1.\n",
      "  0.6  -0.6  -1.4   0.72 -0.12 -1.4   1.    1.    1.    1.2   0.2  -1.\n",
      "  1.    1.   -1.    1.   -1.   -1.    1.2  -0.2   1.    1.   -1.    1.\n",
      " -1.2   0.2   1.   -4.2  -0.06  1.   -1.2  -0.2   1.   -1.2   0.2   1.\n",
      " -1.2  -0.2   1.   -0.3   0.    5.   -0.3   0.    5.    0.   -0.7   3.\n",
      "  0.3   0.    5.   -1.    1.    1.   -1.2   0.2   1.   -0.3   0.    5.\n",
      " -4.2   0.06 -1.   -4.2  -0.18 -1.   -4.2   0.18 -1.   -1.2  -0.2  -1.\n",
      " -4.2   0.06 -1.   -1.2   0.2  -1.   -1.2  -0.2   1.   -4.2  -0.06 -1.\n",
      " -1.2  -0.2  -1.   -1.2   0.2  -1.   -4.2   0.06  1.   -1.2   0.2   1.\n",
      "  4.2   0.06  1.    4.2   0.18 -1.    4.2   0.06 -1.    1.2  -0.2  -1.\n",
      "  4.2  -0.06  1.    1.2  -0.2   1.    1.2  -0.2   1.    4.2   0.06  1.\n",
      "  1.2   0.2   1.    1.2   0.2  -1.    4.2  -0.06 -1.    1.2  -0.2  -1.\n",
      "  4.2  -0.18  1.    4.35  0.18  3.    4.2   0.18  1.    4.2  -0.06 -1.\n",
      "  4.2  -0.18  1.    4.2  -0.06  1.    4.2   0.06  1.    4.2  -0.18  1.\n",
      "  4.2   0.18  1.    4.2  -0.06 -1.    4.2   0.18 -1.    4.2  -0.18 -1.\n",
      "  4.5   0.18 -1.    4.5  -0.18  1.    4.5  -0.18 -1.    4.2   0.18 -1.\n",
      "  4.5  -0.18 -1.    4.2  -0.18 -1.    4.2   0.18  1.    4.5   0.18 -1.\n",
      "  4.2   0.18 -1.    4.2  -0.18 -1.    4.5  -0.18  1.    4.2  -0.18  1.\n",
      " -4.2   0.18 -1.   -4.5   0.18  1.   -4.2   0.18  1.   -4.2  -0.06  1.\n",
      " -4.2  -0.18 -1.   -4.2  -0.06 -1.   -4.2   0.06 -1.   -4.2   0.18  1.\n",
      " -4.2   0.06  1.   -4.2  -0.06  1.   -4.2   0.18  1.   -4.2  -0.18  1.\n",
      " -4.5   0.18  1.   -4.5  -0.18 -1.   -4.5  -0.18  1.   -4.2   0.18  1.\n",
      " -4.5   0.18  1.   -4.35  0.18  3.   -4.2  -0.18 -1.   -4.5   0.18 -1.\n",
      " -4.2   0.18 -1.   -4.2  -0.18  1.   -4.5  -0.18 -1.   -4.2  -0.18 -1.\n",
      " -4.5   0.18  1.   -4.5   0.18 -1.   -4.5  -0.18 -1.    4.2  -0.18  1.\n",
      "  4.5  -0.18  1.    4.35 -0.18  3.    4.5   0.18  1.    4.2   0.18  1.\n",
      "  4.35  0.18  3.    4.5   0.18  1.    4.35 -0.18  3.    4.5  -0.18  1.\n",
      " -4.5  -0.18  1.   -4.35 -0.18  3.   -4.35  0.18  3.   -4.2   0.18  1.\n",
      " -4.35 -0.18  3.   -4.2  -0.18  1.   -4.5  -0.18  1.   -4.2  -0.18  1.\n",
      " -4.35 -0.18  3.   -4.5  -0.18  1.   -4.35  0.18  3.   -4.5   0.18  1.\n",
      "  1.2  -0.2  -1.    4.2  -0.06 -1.    4.2  -0.06  1.    1.2  -0.2   1.\n",
      "  4.2  -0.06  1.    4.2   0.06  1.    1.    1.    1.    1.    1.   -1.\n",
      " -1.    1.   -1.    1.2  -0.2  -1.    0.72  0.12 -1.4   1.2   0.2  -1.\n",
      " -1.2  -0.2  -1.   -0.6  -0.6  -1.4  -1.   -1.   -1.    1.2   0.2  -1.\n",
      "  0.6   0.6  -1.4   1.    1.   -1.    1.    1.   -1.   -0.6   0.6  -1.4\n",
      " -1.    1.   -1.   -1.2   0.2  -1.   -0.72 -0.12 -1.4  -1.2  -0.2  -1.\n",
      " -0.72 -0.12 -1.4  -0.72  0.12 -1.4   0.72 -0.12 -1.4   1.2   0.2  -1.\n",
      "  4.2   0.06 -1.    4.2  -0.06 -1.   -1.2  -0.2  -1.   -4.2  -0.06 -1.\n",
      " -4.2   0.06 -1.   -1.2   0.2  -1.   -4.2   0.06 -1.   -4.2   0.06  1.\n",
      " -1.2   0.2   1.   -4.2   0.06  1.   -4.2  -0.06  1.   -1.2  -0.2   1.\n",
      " -4.2  -0.06  1.   -4.2  -0.06 -1.   -1.   -1.    1.   -1.2  -0.2   1.\n",
      " -1.2  -0.2  -1.   -1.   -1.    1.   -1.   -1.   -1.    1.   -1.   -1.\n",
      " -1.2  -0.2   1.   -1.   -1.    1.    0.   -0.7   3.    1.   -1.   -1.\n",
      "  1.2  -0.2  -1.    1.2  -0.2   1.    1.2  -0.2   1.    0.3   0.    5.\n",
      "  0.   -0.7   3.    1.    1.    1.    1.2   0.2   1.    1.2   0.2  -1.\n",
      "  1.2   0.2   1.    4.2   0.06  1.    4.2   0.06 -1.    1.    1.    1.\n",
      " -1.    1.    1.   -0.3   0.    5.   -4.2   0.18 -1.   -4.5   0.18 -1.\n",
      " -4.5   0.18  1.   -1.    1.   -1.   -1.2   0.2  -1.   -1.2   0.2   1.\n",
      " -4.2   0.18  1.   -4.35  0.18  3.   -4.35 -0.18  3.   -4.2  -0.18  1.\n",
      " -4.5  -0.18  1.   -4.5  -0.18 -1.   -4.2  -0.18 -1.   -4.5  -0.18 -1.\n",
      " -4.5   0.18 -1.    1.    1.   -1.    0.6   0.6  -1.4  -0.6   0.6  -1.4\n",
      "  1.2   0.2  -1.    0.72  0.12 -1.4   0.6   0.6  -1.4   1.2  -0.2  -1.\n",
      "  0.72 -0.12 -1.4   0.72  0.12 -1.4   1.2  -0.2  -1.    1.   -1.   -1.\n",
      "  0.6  -0.6  -1.4  -1.   -1.   -1.   -0.6  -0.6  -1.4   0.6  -0.6  -1.4\n",
      " -1.2  -0.2  -1.   -0.72 -0.12 -1.4  -0.6  -0.6  -1.4  -1.2   0.2  -1.\n",
      " -0.72  0.12 -1.4  -0.72 -0.12 -1.4  -1.2   0.2  -1.   -1.    1.   -1.\n",
      " -0.6   0.6  -1.4  -0.72  0.12 -1.4  -0.6   0.6  -1.4   0.6   0.6  -1.4\n",
      "  0.6   0.6  -1.4   0.72  0.12 -1.4  -0.72  0.12 -1.4   0.72  0.12 -1.4\n",
      "  0.72 -0.12 -1.4  -0.72  0.12 -1.4   0.72 -0.12 -1.4   0.6  -0.6  -1.4\n",
      " -0.6  -0.6  -1.4  -0.6  -0.6  -1.4  -0.72 -0.12 -1.4   0.72 -0.12 -1.4\n",
      "  4.2   0.18 -1.    4.5   0.18 -1.    4.5  -0.18 -1.    4.5   0.18 -1.\n",
      "  4.5   0.18  1.    4.5  -0.18  1.    4.5   0.18  1.    4.35  0.18  3.\n",
      "  4.35 -0.18  3.    4.2   0.18  1.    4.5   0.18  1.    4.5   0.18 -1.\n",
      "  4.2  -0.18 -1.    4.5  -0.18 -1.    4.5  -0.18  1.   -4.2  -0.06  1.\n",
      " -4.2  -0.18  1.   -4.2  -0.18 -1.   -4.2   0.06 -1.   -4.2   0.18 -1.\n",
      " -4.2   0.18  1.    4.2   0.06  1.    4.2   0.18  1.    4.2   0.18 -1.\n",
      "  4.2  -0.06 -1.    4.2  -0.18 -1.    4.2  -0.18  1.    4.2  -0.18  1.\n",
      "  4.35 -0.18  3.    4.35  0.18  3.   -4.2   0.06 -1.   -4.2  -0.06 -1.\n",
      " -4.2  -0.18 -1.    4.2   0.06  1.    4.2  -0.06  1.    4.2  -0.18  1.\n",
      "  4.2  -0.06 -1.    4.2   0.06 -1.    4.2   0.18 -1.   -4.2  -0.06  1.\n",
      " -4.2   0.06  1.   -4.2   0.18  1.    0.    0.    0.    0.    0.    0.\n",
      "  0.    0.    0.    0.    0.    0.    0.    0.    0.    0.    0.    0.\n",
      "  0.    0.    0.    0.    0.    0.    0.    0.    0.    0.    0.    0.\n",
      "  0.    0.    0.    0.    0.    0.  ]\n"
     ]
    }
   ],
   "source": [
    "triangle_number_max = 110\n",
    "screen_height_max = 100\n",
    "screen_width_max = 100\n",
    "triangle_number = np.uint8(len(face))\n",
    "screen_height = np.uint8(100)\n",
    "screen_width = np.uint8(100)\n",
    "rotation_x_theta = np.float32(200)\n",
    "rotation_y_theta = np.float32(20)\n",
    "rotation_z_theta = np.float32(10)\n",
    "distance = np.float32(7)\n",
    "mesh_transmission = np.zeros((triangle_number_max*3*3), dtype=np.float32)\n",
    "for i in range(triangle_number):\n",
    "    for j in range(3):\n",
    "        for k in range(3):\n",
    "            mesh_transmission[i*9+j*3+k] = point[face[i][j]-1][k]\n",
    "print(mesh_transmission)\n"
   ]
  },
  {
   "cell_type": "markdown",
   "metadata": {},
   "source": [
    "Use pynq to construct the python object of 3D render ip and transmit the config."
   ]
  },
  {
   "cell_type": "code",
   "execution_count": 94,
   "metadata": {},
   "outputs": [],
   "source": [
    "from pynq import Overlay\n",
    "overlay = Overlay(\"./threed_render_hw.bit\")\n",
    "threed_render_hls = overlay.threed_render_hls_0\n",
    "from pynq import allocate\n",
    "mesh_transmission_buffer = allocate(shape=(triangle_number_max*3*3,), dtype=np.float32)\n",
    "screen_transmission_buffer = allocate(shape=(screen_height_max*screen_width_max,), dtype=np.float32)\n",
    "np.copyto(mesh_transmission_buffer, mesh_transmission)\n",
    "import struct\n",
    "threed_render_hls.s_axi_control.write(0x10,mesh_transmission_buffer.physical_address)\n",
    "threed_render_hls.s_axi_control.write(0x1c,screen_transmission_buffer.physical_address)\n",
    "threed_render_hls.s_axi_threed_render_hls_io.write(0x10, struct.pack('I',np.uint8(triangle_number)))\n",
    "threed_render_hls.s_axi_threed_render_hls_io.write(0x18, struct.pack('I',np.uint8(screen_height)))\n",
    "threed_render_hls.s_axi_threed_render_hls_io.write(0x20, struct.pack('I',np.uint8(screen_width)))\n",
    "threed_render_hls.s_axi_threed_render_hls_io.write(0x28, struct.pack('f',np.float32(rotation_x_theta)))\n",
    "threed_render_hls.s_axi_threed_render_hls_io.write(0x30, struct.pack('f',np.float32(rotation_y_theta)))\n",
    "threed_render_hls.s_axi_threed_render_hls_io.write(0x38, struct.pack('f',np.float32(rotation_z_theta)))\n",
    "threed_render_hls.s_axi_threed_render_hls_io.write(0x40, struct.pack('f',np.float32(distance)))"
   ]
  },
  {
   "cell_type": "markdown",
   "metadata": {},
   "source": [
    "Start the calculation and get the result. We can see the extremely fast calculation speed of FPGA."
   ]
  },
  {
   "cell_type": "code",
   "execution_count": 95,
   "metadata": {},
   "outputs": [
    {
     "name": "stdout",
     "output_type": "stream",
     "text": [
      "cost time: 0.11820435523986816s\n",
      "[0. 0. 0. ... 0. 0. 0.]\n"
     ]
    }
   ],
   "source": [
    "import time\n",
    "start_time = time.time()\n",
    "threed_render_hls.s_axi_threed_render_hls_io.write(0x00, 0x01)\n",
    "while 1:\n",
    "    flag = threed_render_hls.s_axi_threed_render_hls_io.read(0x00)\n",
    "    if flag != 1:\n",
    "        break\n",
    "end_time = time.time()\n",
    "print(\"cost time: {}s\".format(end_time - start_time))\n",
    "print(screen_transmission_buffer)"
   ]
  },
  {
   "cell_type": "markdown",
   "metadata": {},
   "source": [
    "Change the format of data to which support matplotlib and use it to show the image."
   ]
  },
  {
   "cell_type": "code",
   "execution_count": 96,
   "metadata": {},
   "outputs": [
    {
     "name": "stdout",
     "output_type": "stream",
     "text": [
      "[[0. 0. 0. ... 0. 0. 0.]\n",
      " [0. 0. 0. ... 0. 0. 0.]\n",
      " [0. 0. 0. ... 0. 0. 0.]\n",
      " ...\n",
      " [0. 0. 0. ... 0. 0. 0.]\n",
      " [0. 0. 0. ... 0. 0. 0.]\n",
      " [0. 0. 0. ... 0. 0. 0.]]\n"
     ]
    },
    {
     "data": {
      "image/png": "[encoded data removed]",
      "text/plain": [
       "<Figure size 432x288 with 2 Axes>"
      ]
     },
     "metadata": {
      "needs_background": "light"
     },
     "output_type": "display_data"
    }
   ],
   "source": [
    "screen=np.zeros((screen_height,screen_width))\n",
    "for i in range(screen_height):\n",
    "    for j in range(screen_width):\n",
    "        screen[i][j]=screen_transmission_buffer[i*screen_width+j]\n",
    "print(screen)\n",
    "import matplotlib.pyplot as plt\n",
    "plt.imshow(screen,cmap='gray')\n",
    "plt.colorbar()\n",
    "plt.show()"
   ]
  },
  {
   "cell_type": "code",
   "execution_count": null,
   "metadata": {},
   "outputs": [],
   "source": []
  }
 ],
 "metadata": {
  "kernelspec": {
   "display_name": "Python 3",
   "language": "python",
   "name": "python3"
  },
  "language_info": {
   "codemirror_mode": {
    "name": "ipython",
    "version": 3
   },
   "file_extension": ".py",
   "mimetype": "text/x-python",
   "name": "python",
   "nbconvert_exporter": "python",
   "pygments_lexer": "ipython3",
   "version": "3.8.2"
  }
 },
 "nbformat": 4,
 "nbformat_minor": 2
}
